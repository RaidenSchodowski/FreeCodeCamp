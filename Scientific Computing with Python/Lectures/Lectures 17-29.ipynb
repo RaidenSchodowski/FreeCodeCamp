{
 "cells": [
  {
   "cell_type": "markdown",
   "id": "e3ed4c70",
   "metadata": {},
   "source": [
    "# Files & Lists"
   ]
  },
  {
   "cell_type": "code",
   "execution_count": 1,
   "id": "49290f3d",
   "metadata": {},
   "outputs": [
    {
     "name": "stdout",
     "output_type": "stream",
     "text": [
      "<_io.TextIOWrapper name='mbox.txt' mode='r' encoding='cp1252'>\n"
     ]
    }
   ],
   "source": [
    "fhand = open('mbox.txt')\n",
    "print(fhand)"
   ]
  },
  {
   "cell_type": "code",
   "execution_count": 1,
   "id": "136a2605",
   "metadata": {},
   "outputs": [
    {
     "name": "stdout",
     "output_type": "stream",
     "text": [
      "Hello\n",
      "World!\n",
      "X\n",
      "Y\n",
      "3\n"
     ]
    }
   ],
   "source": [
    "# \\n character\n",
    "stuff = 'Hello\\nWorld!'\n",
    "print(stuff)\n",
    "stuff = 'X\\nY'\n",
    "print(stuff)\n",
    "print(len(stuff))"
   ]
  },
  {
   "cell_type": "code",
   "execution_count": 7,
   "id": "52c94795",
   "metadata": {},
   "outputs": [
    {
     "name": "stdout",
     "output_type": "stream",
     "text": [
      "This file is a test to see if this actually works. \n",
      "\n",
      "I am going to open this .txt file in python for lectures \n",
      "\n",
      "17 and onwards. And try to manipulate the information\n",
      "\n",
      "once in python. Lets see how it goes!\n"
     ]
    }
   ],
   "source": [
    "xfile = open('mbox.txt')\n",
    "for cheese in xfile: \n",
    "    print(cheese)"
   ]
  },
  {
   "cell_type": "code",
   "execution_count": 3,
   "id": "91009433",
   "metadata": {},
   "outputs": [
    {
     "name": "stdout",
     "output_type": "stream",
     "text": [
      "Line Count: 4\n"
     ]
    }
   ],
   "source": [
    "fhand = open('mbox.txt')\n",
    "count = 0\n",
    "for line in fhand: \n",
    "    count = count+1\n",
    "print('Line Count:',count)"
   ]
  },
  {
   "cell_type": "code",
   "execution_count": 8,
   "id": "e6cfcbb2",
   "metadata": {},
   "outputs": [
    {
     "name": "stdout",
     "output_type": "stream",
     "text": [
      "201\n",
      "This file is a test \n"
     ]
    }
   ],
   "source": [
    "# reads the whole file w/ newlines and all into a single string\n",
    "fhand = open('mbox.txt')\n",
    "inp = fhand.read()\n",
    "print(len(inp))\n",
    "print(inp[:20])"
   ]
  },
  {
   "cell_type": "code",
   "execution_count": 9,
   "id": "4b1aed44",
   "metadata": {},
   "outputs": [
    {
     "name": "stdout",
     "output_type": "stream",
     "text": [
      "17 and onwards. And try to manipulate the information\n"
     ]
    }
   ],
   "source": [
    "# only print lines that meet a certain criteria\n",
    "fhand = open('mbox.txt')\n",
    "for line in fhand:\n",
    "    line = line.rstrip()\n",
    "    if not line.startswith('17'):\n",
    "        continue\n",
    "    print(line)"
   ]
  },
  {
   "cell_type": "code",
   "execution_count": 12,
   "id": "0cfd5496",
   "metadata": {},
   "outputs": [
    {
     "name": "stdout",
     "output_type": "stream",
     "text": [
      "Enter the file name: mbox.txt\n",
      "There were 1 subject lines in mbox.txt\n"
     ]
    }
   ],
   "source": [
    "fname = input('Enter the file name: ')\n",
    "fhand = open(fname)\n",
    "count = 0\n",
    "for line in fhand:\n",
    "    if line.startswith('17'):\n",
    "        count = count+1\n",
    "print('There were', count , 'subject lines in', fname)"
   ]
  },
  {
   "cell_type": "code",
   "execution_count": 13,
   "id": "6be3631e",
   "metadata": {},
   "outputs": [
    {
     "name": "stdout",
     "output_type": "stream",
     "text": [
      "Enter the file name: nbox.txt\n",
      "File cannot be opened: nbox.txt\n",
      "There were 0 subject lines in nbox.txt\n"
     ]
    }
   ],
   "source": [
    "# bad file names \n",
    "fname = input('Enter the file name: ')\n",
    "try: \n",
    "    fhand = open(fname)\n",
    "except: \n",
    "    print('File cannot be opened:', fname)\n",
    "    quit()\n",
    "    \n",
    "count = 0\n",
    "for line in fhand:\n",
    "    if line.startswith('17'):\n",
    "        count = count+1\n",
    "print('There were', count , 'subject lines in', fname)"
   ]
  },
  {
   "cell_type": "markdown",
   "id": "903fc01d",
   "metadata": {},
   "source": [
    "Problem with file, lost a lot of information"
   ]
  },
  {
   "cell_type": "code",
   "execution_count": 11,
   "id": "6d023bd5",
   "metadata": {},
   "outputs": [
    {
     "data": {
      "text/plain": [
       "['__add__',\n",
       " '__class__',\n",
       " '__class_getitem__',\n",
       " '__contains__',\n",
       " '__delattr__',\n",
       " '__delitem__',\n",
       " '__dir__',\n",
       " '__doc__',\n",
       " '__eq__',\n",
       " '__format__',\n",
       " '__ge__',\n",
       " '__getattribute__',\n",
       " '__getitem__',\n",
       " '__gt__',\n",
       " '__hash__',\n",
       " '__iadd__',\n",
       " '__imul__',\n",
       " '__init__',\n",
       " '__init_subclass__',\n",
       " '__iter__',\n",
       " '__le__',\n",
       " '__len__',\n",
       " '__lt__',\n",
       " '__mul__',\n",
       " '__ne__',\n",
       " '__new__',\n",
       " '__reduce__',\n",
       " '__reduce_ex__',\n",
       " '__repr__',\n",
       " '__reversed__',\n",
       " '__rmul__',\n",
       " '__setattr__',\n",
       " '__setitem__',\n",
       " '__sizeof__',\n",
       " '__str__',\n",
       " '__subclasshook__',\n",
       " 'append',\n",
       " 'clear',\n",
       " 'copy',\n",
       " 'count',\n",
       " 'extend',\n",
       " 'index',\n",
       " 'insert',\n",
       " 'pop',\n",
       " 'remove',\n",
       " 'reverse',\n",
       " 'sort']"
      ]
     },
     "execution_count": 11,
     "metadata": {},
     "output_type": "execute_result"
    }
   ],
   "source": [
    "# list methods\n",
    "x = list()\n",
    "type(x)\n",
    "dir(x)"
   ]
  },
  {
   "cell_type": "code",
   "execution_count": 13,
   "id": "83aa6187",
   "metadata": {},
   "outputs": [
    {
     "name": "stdout",
     "output_type": "stream",
     "text": [
      "['book', 99]\n",
      "['book', 99, 'cookie']\n"
     ]
    }
   ],
   "source": [
    "stuff = list()\n",
    "stuff.append('book')\n",
    "stuff.append(99)\n",
    "print(stuff)\n",
    "stuff.append('cookie')\n",
    "print(stuff)"
   ]
  },
  {
   "cell_type": "code",
   "execution_count": 18,
   "id": "f5213b6c",
   "metadata": {},
   "outputs": [
    {
     "name": "stdout",
     "output_type": "stream",
     "text": [
      "True\n",
      "False\n",
      "True\n"
     ]
    }
   ],
   "source": [
    "# is something in a list\n",
    "stuff = [1,9,21,10,16]\n",
    "print(9 in stuff)\n",
    "print(15 in stuff)\n",
    "print(20 not in stuff)"
   ]
  },
  {
   "cell_type": "code",
   "execution_count": 19,
   "id": "494133ee",
   "metadata": {},
   "outputs": [
    {
     "name": "stdout",
     "output_type": "stream",
     "text": [
      "['Glenn', 'Joseph', 'Sally']\n",
      "Joseph\n"
     ]
    }
   ],
   "source": [
    "friends = ['Joseph','Glenn','Sally']\n",
    "friends.sort()\n",
    "print(friends)\n",
    "print(friends[1])"
   ]
  },
  {
   "cell_type": "code",
   "execution_count": 20,
   "id": "082f33fd",
   "metadata": {},
   "outputs": [
    {
     "name": "stdout",
     "output_type": "stream",
     "text": [
      "6\n",
      "74\n",
      "3\n",
      "154\n",
      "25.666666666666668\n"
     ]
    }
   ],
   "source": [
    "nums = [3,41,12,9,74,15]\n",
    "print(len(nums))\n",
    "print(max(nums))\n",
    "print(min(nums))\n",
    "print(sum(nums))\n",
    "print(sum(nums)/len(nums))"
   ]
  },
  {
   "cell_type": "code",
   "execution_count": 23,
   "id": "66944711",
   "metadata": {},
   "outputs": [
    {
     "name": "stdout",
     "output_type": "stream",
     "text": [
      "With three words\n",
      "['With', 'three', 'words']\n",
      "3\n",
      "With\n"
     ]
    }
   ],
   "source": [
    "# strings and lists \n",
    "# Split function\n",
    "abs = 'With three words'\n",
    "stuff = abs.split()\n",
    "print(abs)\n",
    "print(stuff)\n",
    "print(len(stuff))\n",
    "print(stuff[0])"
   ]
  },
  {
   "cell_type": "code",
   "execution_count": 24,
   "id": "555d6601",
   "metadata": {},
   "outputs": [
    {
     "name": "stdout",
     "output_type": "stream",
     "text": [
      "['A', 'lot', 'of', 'spaces']\n",
      "['first', 'second', 'third']\n"
     ]
    }
   ],
   "source": [
    "line = 'A lot     of spaces'\n",
    "etc = line.split()\n",
    "print(etc)\n",
    "line = 'first;second;third'\n",
    "etc = line.split(';')\n",
    "print(etc)"
   ]
  },
  {
   "cell_type": "code",
   "execution_count": 25,
   "id": "60753853",
   "metadata": {},
   "outputs": [],
   "source": [
    "fhand = 'From stephen.marquard@uct.ac.za Sat Jan  5 09:14:16 2008'\n",
    "for line in fhand:\n",
    "    line = line.rstrip()\n",
    "    if not line.startswith('From '):\n",
    "        continue\n",
    "    words = line.split()\n",
    "    print(words[2])"
   ]
  },
  {
   "cell_type": "code",
   "execution_count": 30,
   "id": "f69720fe",
   "metadata": {},
   "outputs": [
    {
     "name": "stdout",
     "output_type": "stream",
     "text": [
      "['From', 'stephen.marquard@uct.ac.za', 'Sat', 'Jan', '5', '09:14:16', '2008']\n",
      "['stephen.marquard', 'uct.ac.za']\n"
     ]
    }
   ],
   "source": [
    "fhand = 'From stephen.marquard@uct.ac.za Sat Jan  5 09:14:16 2008'\n",
    "first = fhand.split( )\n",
    "print(first)\n",
    "email = first[1]\n",
    "second = email.split('@')\n",
    "print(second)"
   ]
  },
  {
   "cell_type": "markdown",
   "id": "94d8d19e",
   "metadata": {},
   "source": [
    "# Dictionaries"
   ]
  },
  {
   "cell_type": "code",
   "execution_count": 33,
   "id": "3ebf9ae8",
   "metadata": {},
   "outputs": [
    {
     "name": "stdout",
     "output_type": "stream",
     "text": [
      "{'money': 12, 'candy': 3, 'tissues': 75}\n",
      "3\n",
      "{'money': 12, 'candy': 5, 'tissues': 75}\n"
     ]
    }
   ],
   "source": [
    "purse = dict()\n",
    "purse['money'] = 12\n",
    "purse['candy'] = 3\n",
    "purse['tissues'] = 75\n",
    "print(purse)\n",
    "print(purse['candy'])\n",
    "purse['candy'] = purse['candy'] + 2\n",
    "print(purse)"
   ]
  },
  {
   "cell_type": "code",
   "execution_count": 37,
   "id": "f460a58f",
   "metadata": {},
   "outputs": [
    {
     "name": "stdout",
     "output_type": "stream",
     "text": [
      "{'csev': 1, 'cwen': 1}\n",
      "{'csev': 1, 'cwen': 2}\n",
      "False\n"
     ]
    }
   ],
   "source": [
    "# counting\n",
    "ccc = dict()\n",
    "ccc['csev']=1\n",
    "ccc['cwen']=1\n",
    "print(ccc)\n",
    "ccc['cwen']=ccc['cwen']+1\n",
    "print(ccc)\n",
    "print('cnem' in ccc)"
   ]
  },
  {
   "cell_type": "code",
   "execution_count": 38,
   "id": "5f1fd06c",
   "metadata": {},
   "outputs": [
    {
     "name": "stdout",
     "output_type": "stream",
     "text": [
      "{'Rae': 3, 'Ian': 1, 'Han': 1, 'Nath': 2}\n"
     ]
    }
   ],
   "source": [
    "counts = dict()\n",
    "names = ['Rae','Ian','Han','Nath','Rae','Rae','Nath']\n",
    "for name in names:\n",
    "    if name not in counts: \n",
    "        counts[name]=1\n",
    "    else:\n",
    "        counts[name]=counts[name]+1\n",
    "print(counts)"
   ]
  },
  {
   "cell_type": "code",
   "execution_count": 39,
   "id": "e06b07b8",
   "metadata": {},
   "outputs": [
    {
     "name": "stdout",
     "output_type": "stream",
     "text": [
      "{'Rae': 3, 'Ian': 1, 'Han': 1, 'Nath': 2}\n"
     ]
    }
   ],
   "source": [
    "counts = dict()\n",
    "names = ['Rae','Ian','Han','Nath','Rae','Rae','Nath']\n",
    "for name in names:\n",
    "    counts[name] = counts.get(name,0)+1\n",
    "print(counts)"
   ]
  },
  {
   "cell_type": "code",
   "execution_count": 43,
   "id": "0bd3dec6",
   "metadata": {},
   "outputs": [
    {
     "name": "stdout",
     "output_type": "stream",
     "text": [
      "Enter a line of text:hello this is no this is not\n",
      "['hello', 'this', 'is', 'no', 'this', 'is', 'not']\n",
      "{'hello': 1, 'this': 2, 'is': 2, 'no': 1, 'not': 1}\n"
     ]
    }
   ],
   "source": [
    "counts = dict()\n",
    "line = input('Enter a line of text:')\n",
    "words = line.split()\n",
    "print(words)\n",
    "for word in words: \n",
    "    counts[word] = counts.get(word,0)+1\n",
    "print(counts)"
   ]
  },
  {
   "cell_type": "code",
   "execution_count": 51,
   "id": "a6842c0c",
   "metadata": {},
   "outputs": [
    {
     "name": "stdout",
     "output_type": "stream",
     "text": [
      "chuck 1\n",
      "fred 42\n",
      "jan 100\n",
      "['chuck', 'fred', 'jan']\n",
      "dict_keys(['chuck', 'fred', 'jan'])\n",
      "dict_values([1, 42, 100])\n",
      "dict_items([('chuck', 1), ('fred', 42), ('jan', 100)])\n",
      "chuck 1\n",
      "fred 42\n",
      "jan 100\n"
     ]
    }
   ],
   "source": [
    "counts = dict()\n",
    "counts = {'chuck':1,'fred':42,'jan':100}\n",
    "for key in counts:\n",
    "    print(key,counts[key])\n",
    "print(list(counts))\n",
    "print(counts.keys())\n",
    "print(counts.values())\n",
    "print(counts.items())\n",
    "for aaa,bbb in counts.items():\n",
    "    print(aaa,bbb)"
   ]
  },
  {
   "cell_type": "markdown",
   "id": "a03e4713",
   "metadata": {},
   "source": [
    "# Tuples"
   ]
  },
  {
   "cell_type": "code",
   "execution_count": 52,
   "id": "00e7862b",
   "metadata": {},
   "outputs": [
    {
     "name": "stdout",
     "output_type": "stream",
     "text": [
      "not allowed\n"
     ]
    }
   ],
   "source": [
    "x = (5,4,3)\n",
    "try: \n",
    "    x[2] = 0\n",
    "except: \n",
    "    print('not allowed')"
   ]
  },
  {
   "cell_type": "code",
   "execution_count": 53,
   "id": "6d7e4f94",
   "metadata": {},
   "outputs": [
    {
     "name": "stdout",
     "output_type": "stream",
     "text": [
      "fred\n",
      "99\n"
     ]
    }
   ],
   "source": [
    "(x,y) = (4,'fred')\n",
    "print(y)\n",
    "(a,b) = (99,98)\n",
    "print(a)"
   ]
  },
  {
   "cell_type": "code",
   "execution_count": 55,
   "id": "eab52556",
   "metadata": {},
   "outputs": [
    {
     "name": "stdout",
     "output_type": "stream",
     "text": [
      "csev 2\n",
      "cwen 4\n",
      "dict_items([('csev', 2), ('cwen', 4)])\n"
     ]
    }
   ],
   "source": [
    "d = dict()\n",
    "d['csev'] = 2\n",
    "d['cwen'] = 4\n",
    "for (k,v) in d.items():\n",
    "    print(k,v)\n",
    "tups = d.items()\n",
    "print(tups)"
   ]
  },
  {
   "cell_type": "code",
   "execution_count": 57,
   "id": "8eaa2fce",
   "metadata": {},
   "outputs": [
    {
     "name": "stdout",
     "output_type": "stream",
     "text": [
      "[('a', 10), ('b', 1), ('c', 22)]\n",
      "a 10\n",
      "b 1\n",
      "c 22\n"
     ]
    }
   ],
   "source": [
    "d = {'a':10,'b':1,'c':22}\n",
    "d.items()\n",
    "x = sorted(d.items())\n",
    "print(x)\n",
    "for k,v in sorted(d.items()):\n",
    "    print(k,v)"
   ]
  },
  {
   "cell_type": "code",
   "execution_count": 58,
   "id": "49e57adb",
   "metadata": {},
   "outputs": [
    {
     "name": "stdout",
     "output_type": "stream",
     "text": [
      "[(10, 'a'), (1, 'b'), (22, 'c')]\n",
      "[(22, 'c'), (10, 'a'), (1, 'b')]\n"
     ]
    }
   ],
   "source": [
    "c = {'a':10,'b':1,'c':22}\n",
    "tmp = list()\n",
    "for k,v in c.items():\n",
    "    tmp.append((v,k))\n",
    "print(tmp)\n",
    "tmp = sorted(tmp,reverse=True)\n",
    "print(tmp)"
   ]
  },
  {
   "cell_type": "code",
   "execution_count": 6,
   "id": "00ce4724",
   "metadata": {},
   "outputs": [
    {
     "name": "stdout",
     "output_type": "stream",
     "text": [
      "to 3\n",
      "this 2\n",
      "see 2\n",
      "in 2\n",
      "file 2\n",
      "works. 1\n",
      "try 1\n",
      "the 1\n",
      "test 1\n",
      "python. 1\n"
     ]
    }
   ],
   "source": [
    "fhand = open('mbox.txt')\n",
    "counts = dict()\n",
    "for line in fhand:\n",
    "    words = line.split()\n",
    "    for word in words:\n",
    "        counts[word] = counts.get(word,0)+1\n",
    "\n",
    "lst = list()\n",
    "for key,val in counts.items():\n",
    "    newtup = (val,key)\n",
    "    lst.append(newtup)\n",
    "lst = sorted(lst,reverse=True)\n",
    "for val,key in lst[:10]:\n",
    "    print(key,val)"
   ]
  },
  {
   "cell_type": "code",
   "execution_count": 7,
   "id": "a2dc5325",
   "metadata": {},
   "outputs": [
    {
     "name": "stdout",
     "output_type": "stream",
     "text": [
      "[(1, 'b'), (10, 'a'), (22, 'c')]\n"
     ]
    }
   ],
   "source": [
    "c = {'a':10,'b':1,'c':22}\n",
    "print(sorted([(v,k) for k,v in c.items()]))"
   ]
  },
  {
   "cell_type": "code",
   "execution_count": 9,
   "id": "8e89814c",
   "metadata": {},
   "outputs": [
    {
     "name": "stdout",
     "output_type": "stream",
     "text": [
      "I dont want to actually run this code rn\n"
     ]
    }
   ],
   "source": [
    "try:\n",
    "    print('I dont want to actually run this code rn')\n",
    "except: \n",
    "    list = []\n",
    "    for key,val in counts.items():\n",
    "        newtup = (val,key)\n",
    "        lst.append(newtup)\n",
    "    lst = sorted(lst,reverse = True)\n",
    "    print(lst)\n",
    "    \n",
    "    # is the same things as...\n",
    "    \n",
    "    print(sorted([(v,k) for k,v in counts.items]))"
   ]
  },
  {
   "cell_type": "markdown",
   "id": "e7be5d5e",
   "metadata": {},
   "source": [
    "# Expressions"
   ]
  },
  {
   "cell_type": "code",
   "execution_count": 12,
   "id": "e60bf0da",
   "metadata": {},
   "outputs": [
    {
     "name": "stdout",
     "output_type": "stream",
     "text": [
      "This file is a test to see if this actually works.\n",
      "I am going to open this .txt file in python for lectures\n",
      "17 and onwards. And try to manipulate the information\n"
     ]
    }
   ],
   "source": [
    "import re\n",
    "hand = open('mbox.txt')\n",
    "\n",
    "for line in hand: \n",
    "    line = line.rstrip()\n",
    "    if re.search('to',line):\n",
    "        print(line)"
   ]
  },
  {
   "cell_type": "code",
   "execution_count": 15,
   "id": "5030ffcf",
   "metadata": {},
   "outputs": [
    {
     "name": "stdout",
     "output_type": "stream",
     "text": [
      "['2', '19', '42']\n",
      "[]\n",
      "['a', 'o', 'i', 'e', 'u', 'e', 'a', 'e', 'a']\n"
     ]
    }
   ],
   "source": [
    "import re \n",
    "x = 'My 2 favorite numbers are 19 and 42'\n",
    "y = re.findall('[0-9]+',x)\n",
    "print(y)\n",
    "y = re.findall('[AEIOU]+',x)\n",
    "print(y)\n",
    "y = re.findall('[aeiou]+',x)\n",
    "print(y)"
   ]
  },
  {
   "cell_type": "code",
   "execution_count": 17,
   "id": "9c9d21e8",
   "metadata": {},
   "outputs": [
    {
     "name": "stdout",
     "output_type": "stream",
     "text": [
      "['From: Using the:']\n",
      "['From:']\n"
     ]
    }
   ],
   "source": [
    "import re\n",
    "x = 'From: Using the: character'\n",
    "y = re.findall('^F.+:',x)\n",
    "print(y)\n",
    "y = re.findall('^F.+?:',x)\n",
    "print(y)"
   ]
  },
  {
   "cell_type": "code",
   "execution_count": 20,
   "id": "d8c8c56c",
   "metadata": {},
   "outputs": [
    {
     "name": "stdout",
     "output_type": "stream",
     "text": [
      "['stephen.marquard@ucd.ac.za']\n",
      "['From stephen.marquard@ucd.ac.za']\n"
     ]
    }
   ],
   "source": [
    "x = 'From stephen.marquard@ucd.ac.za Sat Jan  5 09:14:16 2008'\n",
    "y = re.findall('\\S+@\\S+',x)\n",
    "print(y)\n",
    "y = re.findall('^From \\S+@\\S+',x)\n",
    "print(y)"
   ]
  },
  {
   "cell_type": "code",
   "execution_count": 23,
   "id": "41fd4683",
   "metadata": {},
   "outputs": [
    {
     "name": "stdout",
     "output_type": "stream",
     "text": [
      "['ucd.ac.za']\n",
      "['ucd.ac.za']\n"
     ]
    }
   ],
   "source": [
    "import re \n",
    "line = 'From stephen.marquard@ucd.ac.za Sat Jan  5 09:14:16 2008'\n",
    "y = re.findall('@([^ ]*)',line)\n",
    "print(y)\n",
    "y = re.findall('^From .*@([^ ]*)',line)\n",
    "print(y)"
   ]
  },
  {
   "cell_type": "code",
   "execution_count": 24,
   "id": "fa8d3070",
   "metadata": {},
   "outputs": [
    {
     "name": "stdout",
     "output_type": "stream",
     "text": [
      "['$10.00']\n"
     ]
    }
   ],
   "source": [
    "import re \n",
    "x = 'We just received $10.00 for cookies.'\n",
    "y = re.findall('\\$[0-9.]+',x)\n",
    "print(y)"
   ]
  },
  {
   "cell_type": "code",
   "execution_count": null,
   "id": "71700597",
   "metadata": {},
   "outputs": [],
   "source": []
  }
 ],
 "metadata": {
  "kernelspec": {
   "display_name": "Python 3 (ipykernel)",
   "language": "python",
   "name": "python3"
  },
  "language_info": {
   "codemirror_mode": {
    "name": "ipython",
    "version": 3
   },
   "file_extension": ".py",
   "mimetype": "text/x-python",
   "name": "python",
   "nbconvert_exporter": "python",
   "pygments_lexer": "ipython3",
   "version": "3.9.7"
  }
 },
 "nbformat": 4,
 "nbformat_minor": 5
}
