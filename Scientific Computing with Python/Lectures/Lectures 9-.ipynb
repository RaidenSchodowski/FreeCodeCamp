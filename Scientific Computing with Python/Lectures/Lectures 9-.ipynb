{
 "cells": [
  {
   "cell_type": "markdown",
   "id": "3ef07c00",
   "metadata": {},
   "source": [
    "# Functions"
   ]
  },
  {
   "cell_type": "code",
   "execution_count": 1,
   "id": "c2940971",
   "metadata": {},
   "outputs": [
    {
     "name": "stdout",
     "output_type": "stream",
     "text": [
      "Hello\n",
      "Fun\n",
      "zip\n",
      "Hello\n",
      "Fun\n"
     ]
    }
   ],
   "source": [
    "def thing():\n",
    "    print('Hello')\n",
    "    print('Fun')\n",
    "    \n",
    "thing()\n",
    "print('zip')\n",
    "thing()"
   ]
  },
  {
   "cell_type": "code",
   "execution_count": 4,
   "id": "56bf1c26",
   "metadata": {},
   "outputs": [
    {
     "name": "stdout",
     "output_type": "stream",
     "text": [
      "w\n"
     ]
    }
   ],
   "source": [
    "big = max('Hello world')\n",
    "print(big)"
   ]
  },
  {
   "cell_type": "code",
   "execution_count": 6,
   "id": "445a463b",
   "metadata": {},
   "outputs": [
    {
     "name": "stdout",
     "output_type": "stream",
     "text": [
      "What language do you speak? es\n",
      "Hola\n"
     ]
    }
   ],
   "source": [
    "def greet(lang):\n",
    "    if lang == 'es':\n",
    "        print('Hola')\n",
    "    elif lang == 'fr':\n",
    "        print('Bonjour')\n",
    "    else:\n",
    "        print('Hello')\n",
    "\n",
    "x = input('What language do you speak? ')\n",
    "greet(x)"
   ]
  },
  {
   "cell_type": "code",
   "execution_count": 7,
   "id": "b76b9620",
   "metadata": {},
   "outputs": [
    {
     "name": "stdout",
     "output_type": "stream",
     "text": [
      "Hello Glenn\n",
      "Hello Alex\n"
     ]
    }
   ],
   "source": [
    "def greet():\n",
    "    return \"Hello\"\n",
    "\n",
    "print(greet(),\"Glenn\")\n",
    "print(greet(),\"Alex\")"
   ]
  },
  {
   "cell_type": "code",
   "execution_count": 10,
   "id": "e932d5ee",
   "metadata": {
    "scrolled": true
   },
   "outputs": [
    {
     "name": "stdout",
     "output_type": "stream",
     "text": [
      "Hello Glenn\n",
      "Hola Glenn\n",
      "Bonjour Glenn\n"
     ]
    }
   ],
   "source": [
    "def greet(lang):\n",
    "    if lang == 'es':\n",
    "        return('Hola')\n",
    "    elif lang == 'fr':\n",
    "        return('Bonjour')\n",
    "    else:\n",
    "        return('Hello')\n",
    "\n",
    "print(greet('en'),'Glenn')\n",
    "print(greet('es'),'Glenn')\n",
    "print(greet('fr'),'Glenn')"
   ]
  },
  {
   "cell_type": "code",
   "execution_count": 11,
   "id": "6cd0b538",
   "metadata": {},
   "outputs": [
    {
     "name": "stdout",
     "output_type": "stream",
     "text": [
      "8\n"
     ]
    }
   ],
   "source": [
    "def addtwo(a,b):\n",
    "    added = a+b\n",
    "    return added\n",
    "\n",
    "x = addtwo(3,5)\n",
    "print(x)"
   ]
  },
  {
   "cell_type": "markdown",
   "id": "4b06872d",
   "metadata": {},
   "source": [
    "# Loops and Iterations"
   ]
  },
  {
   "cell_type": "code",
   "execution_count": null,
   "id": "9af5762b",
   "metadata": {},
   "outputs": [],
   "source": []
  }
 ],
 "metadata": {
  "kernelspec": {
   "display_name": "Python 3 (ipykernel)",
   "language": "python",
   "name": "python3"
  },
  "language_info": {
   "codemirror_mode": {
    "name": "ipython",
    "version": 3
   },
   "file_extension": ".py",
   "mimetype": "text/x-python",
   "name": "python",
   "nbconvert_exporter": "python",
   "pygments_lexer": "ipython3",
   "version": "3.9.7"
  }
 },
 "nbformat": 4,
 "nbformat_minor": 5
}
