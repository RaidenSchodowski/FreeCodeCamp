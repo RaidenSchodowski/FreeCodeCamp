{
 "cells": [
  {
   "cell_type": "markdown",
   "id": "e3ed4c70",
   "metadata": {},
   "source": [
    "# Files"
   ]
  },
  {
   "cell_type": "code",
   "execution_count": null,
   "id": "49290f3d",
   "metadata": {},
   "outputs": [],
   "source": [
    "fhand = open('mbox.txt')\n",
    "print(fhand)"
   ]
  },
  {
   "cell_type": "code",
   "execution_count": 1,
   "id": "136a2605",
   "metadata": {},
   "outputs": [
    {
     "name": "stdout",
     "output_type": "stream",
     "text": [
      "Hello\n",
      "World!\n",
      "X\n",
      "Y\n",
      "3\n"
     ]
    }
   ],
   "source": [
    "stuff = 'Hello\\nWorld!'\n",
    "print(stuff)\n",
    "stuff = 'X\\nY'\n",
    "print(stuff)\n",
    "print(len(stuff))"
   ]
  },
  {
   "cell_type": "code",
   "execution_count": 6,
   "id": "52c94795",
   "metadata": {},
   "outputs": [
    {
     "name": "stdout",
     "output_type": "stream",
     "text": [
      "6\n",
      "5\n",
      "7\n",
      "8\n",
      "9\n"
     ]
    }
   ],
   "source": [
    "xfile = open('mbox.txt')\n",
    "for cheese in xfile: \n",
    "    print(cheese)"
   ]
  },
  {
   "cell_type": "code",
   "execution_count": null,
   "id": "91009433",
   "metadata": {},
   "outputs": [],
   "source": [
    "fhand = open('mbox.txt')\n",
    "count = 0\n",
    "for line in fhand: \n",
    "    count = count+1\n",
    "print('Line Count:',count)"
   ]
  },
  {
   "cell_type": "code",
   "execution_count": null,
   "id": "e6cfcbb2",
   "metadata": {},
   "outputs": [],
   "source": [
    "# reads the whole file w/ newlines and all into a single string\n",
    "fhand = open('mbox-short.txt')\n",
    "inp = fhand.read()\n",
    "print(len(inp))\n",
    "print(inp[:20])"
   ]
  },
  {
   "cell_type": "code",
   "execution_count": null,
   "id": "4b1aed44",
   "metadata": {},
   "outputs": [],
   "source": [
    "# only print lines that meet a certain criteria\n",
    "fhand = open('mbox-short.txt')\n",
    "for line in fhand:\n",
    "    line = line.rstrip()\n",
    "    if not line.startswith('Fron:'):\n",
    "        continue\n",
    "    print(line)"
   ]
  }
 ],
 "metadata": {
  "kernelspec": {
   "display_name": "Python 3 (ipykernel)",
   "language": "python",
   "name": "python3"
  },
  "language_info": {
   "codemirror_mode": {
    "name": "ipython",
    "version": 3
   },
   "file_extension": ".py",
   "mimetype": "text/x-python",
   "name": "python",
   "nbconvert_exporter": "python",
   "pygments_lexer": "ipython3",
   "version": "3.9.7"
  }
 },
 "nbformat": 4,
 "nbformat_minor": 5
}
